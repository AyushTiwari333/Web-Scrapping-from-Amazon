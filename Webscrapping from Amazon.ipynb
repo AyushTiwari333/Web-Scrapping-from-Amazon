{
 "cells": [
  {
   "cell_type": "markdown",
   "id": "f9e88f43",
   "metadata": {},
   "source": [
    "# Webscraping from Amazon.in using Beautifulsoup"
   ]
  },
  {
   "cell_type": "markdown",
   "id": "02642914",
   "metadata": {},
   "source": [
    "### Using Beautifulsoup "
   ]
  },
  {
   "cell_type": "code",
   "execution_count": 55,
   "id": "c1f4590d",
   "metadata": {},
   "outputs": [
    {
     "name": "stdout",
     "output_type": "stream",
     "text": [
      "Casio Analog Blue Dial Men's Watch-MTP-V005L-2B5UDF\n",
      "1646\n",
      "2024-01-10 00:06:09\n"
     ]
    }
   ],
   "source": [
    "from bs4 import BeautifulSoup\n",
    "import requests\n",
    "import time\n",
    "import datetime\n",
    "import csv\n",
    "import smtplib\n",
    "import re\n",
    "\n",
    "URL = 'https://www.amazon.in/Casio-Analog-Blue-Dial-Watch-MTP-V005L-2B5UDF/dp/B09BB41MGF/ref=sr_1_6?keywords=wrist%2Bwatch%2Bfor%2Bmen&sr=8-6&th=1'\n",
    "headers = {\"User-Agent\": \"Mozilla/5.0 (Windows NT 10.0; Win64; x64) AppleWebKit/537.36 (KHTML, like Gecko) Chrome/120.0.0.0 Safari/537.36\", \"Accept-Encoding\":\"gzip, deflate\", \"Accept\":\"text/html,application/xhtml+xml,application/xml;q=0.9,*/*;q=0.8\", \"DNT\":\"1\",\"Connection\":\"close\", \"Upgrade-Insecure-Requests\":\"1\"}\n",
    "page = requests.get(URL, headers=headers)\n",
    "\n",
    "soup1 = BeautifulSoup(page.content, 'html.parser')\n",
    "soup2 = BeautifulSoup(soup1.prettify(), 'html.parser')\n",
    "#print(soup2)\n",
    "\n",
    "# Scrapping product title\n",
    "title_element = soup2.find(id = \"title\")\n",
    "title = title_element.get_text().strip() if title_element else \"Title Not Found\"\n",
    "\n",
    "# Scrapping product price\n",
    "price_element = soup2.find(class_=\"a-price-whole\")\n",
    "price = price_element.get_text().strip() if price_element else \"Price Not Found\"\n",
    "price = re.sub(r'[\\n\\r]', '', price)\n",
    "price = re.sub(r'\\D', '', price)\n",
    "\n",
    "print(title)\n",
    "print(price)\n",
    "\n",
    "# Getting Timestamp for the data\n",
    "today = datetime.datetime.now()\n",
    "today = today.strftime('%Y-%m-%d %H:%M:%S')\n",
    "print(today)\n",
    "\n"
   ]
  },
  {
   "cell_type": "markdown",
   "id": "152cbc4a",
   "metadata": {},
   "source": [
    "### Creating CSV with headers"
   ]
  },
  {
   "cell_type": "code",
   "execution_count": 38,
   "id": "3384a325",
   "metadata": {},
   "outputs": [],
   "source": [
    "import csv\n",
    "\n",
    "\n",
    "header = ['Product', 'Price', 'Date']\n",
    "data = [title, price, today]\n",
    "file_path = r'D:\\DATA ANALYST PLAYGROUND\\AmazonWebScraperDataset.csv'\n",
    "with open(file_path, 'w', newline='', encoding='UTF8') as f:\n",
    "    writer = csv.writer(f)\n",
    "    writer.writerow(header)\n",
    "    writer.writerow(data)"
   ]
  },
  {
   "cell_type": "markdown",
   "id": "bebab2ef",
   "metadata": {},
   "source": [
    "### Combining it all in a function"
   ]
  },
  {
   "cell_type": "code",
   "execution_count": 40,
   "id": "6ad12aba",
   "metadata": {},
   "outputs": [],
   "source": [
    "def check_price ():\n",
    "    from bs4 import BeautifulSoup\n",
    "    import requests\n",
    "    import time\n",
    "    import datetime\n",
    "    import csv\n",
    "    import smtplib\n",
    "    import re\n",
    "\n",
    "    URL = 'https://www.amazon.in/Casio-Analog-Blue-Dial-Watch-MTP-V005L-2B5UDF/dp/B09BB41MGF/ref=sr_1_6?keywords=wrist%2Bwatch%2Bfor%2Bmen&sr=8-6&th=1'\n",
    "    headers = {\"User-Agent\": \"Mozilla/5.0 (Windows NT 10.0; Win64; x64) AppleWebKit/537.36 (KHTML, like Gecko) Chrome/120.0.0.0 Safari/537.36\", \"Accept-Encoding\":\"gzip, deflate\", \"Accept\":\"text/html,application/xhtml+xml,application/xml;q=0.9,*/*;q=0.8\", \"DNT\":\"1\",\"Connection\":\"close\", \"Upgrade-Insecure-Requests\":\"1\"}\n",
    "    page = requests.get(URL, headers=headers)\n",
    "\n",
    "    soup1 = BeautifulSoup(page.content, 'html.parser')\n",
    "    soup2 = BeautifulSoup(soup1.prettify(), 'html.parser')\n",
    "    #print(soup2)\n",
    "\n",
    "    # Scrapping product title\n",
    "    title_element = soup2.find(id = \"title\")\n",
    "    title = title_element.get_text().strip() if title_element else \"Title Not Found\"\n",
    "\n",
    "    # Scrapping product price\n",
    "    price_element = soup2.find(class_=\"a-price-whole\")\n",
    "    price = price_element.get_text().strip() if price_element else \"Price Not Found\"\n",
    "    price = re.sub(r'[\\n\\r]', '', price)\n",
    "    price = re.sub(r'\\D', '', price)\n",
    "\n",
    "    #print(title)\n",
    "    #print(price)\n",
    "\n",
    "    # Getting Timestamp for the data\n",
    "    today = datetime.datetime.now()\n",
    "    today = today.strftime('%Y-%m-%d %H:%M:%S')\n",
    "    #print(today)\n",
    "    \n",
    "    \n",
    "    #Appending the data into the CSV\n",
    "   \n",
    "    header = ['Product', 'Price', 'Date']\n",
    "    data = [title, price, today]\n",
    "    file_path = r'D:\\DATA ANALYST PLAYGROUND\\AmazonWebScraperDataset.csv'\n",
    "\n",
    "    with open(file_path,'a+', newline='', encoding='UTF8' ) as f:\n",
    "        writer  = csv.writer(f)\n",
    "        writer.writerow(data)\n",
    "    #if (int(price) < 1):\n",
    "        #send_mail()\n",
    "    \n",
    "    "
   ]
  },
  {
   "cell_type": "markdown",
   "id": "e9e28678",
   "metadata": {},
   "source": [
    "### Runs check_price after a set time and inputs data into your CSV"
   ]
  },
  {
   "cell_type": "code",
   "execution_count": null,
   "id": "71cc6273",
   "metadata": {},
   "outputs": [],
   "source": [
    "while(True):\n",
    "    check_price()\n",
    "    time.sleep(1) #86400 is the total of seconds in 24 hrs"
   ]
  },
  {
   "cell_type": "markdown",
   "id": "70b543be",
   "metadata": {},
   "source": [
    "### Reading the extracted data using Pandas"
   ]
  },
  {
   "cell_type": "code",
   "execution_count": 57,
   "id": "4f54c5df",
   "metadata": {
    "scrolled": true
   },
   "outputs": [
    {
     "data": {
      "text/html": [
       "<div>\n",
       "<style scoped>\n",
       "    .dataframe tbody tr th:only-of-type {\n",
       "        vertical-align: middle;\n",
       "    }\n",
       "\n",
       "    .dataframe tbody tr th {\n",
       "        vertical-align: top;\n",
       "    }\n",
       "\n",
       "    .dataframe thead th {\n",
       "        text-align: right;\n",
       "    }\n",
       "</style>\n",
       "<table border=\"1\" class=\"dataframe\">\n",
       "  <thead>\n",
       "    <tr style=\"text-align: right;\">\n",
       "      <th></th>\n",
       "      <th>Product</th>\n",
       "      <th>Price</th>\n",
       "      <th>Date</th>\n",
       "    </tr>\n",
       "  </thead>\n",
       "  <tbody>\n",
       "    <tr>\n",
       "      <th>0</th>\n",
       "      <td>Casio Analog Blue Dial Men's Watch-MTP-V005L-2...</td>\n",
       "      <td>1646.0</td>\n",
       "      <td>2024-01-09 23:42:52</td>\n",
       "    </tr>\n",
       "    <tr>\n",
       "      <th>1</th>\n",
       "      <td>Title Not Found</td>\n",
       "      <td>NaN</td>\n",
       "      <td>2024-01-09 23:43:55</td>\n",
       "    </tr>\n",
       "    <tr>\n",
       "      <th>2</th>\n",
       "      <td>Casio Analog Blue Dial Men's Watch-MTP-V005L-2...</td>\n",
       "      <td>1646.0</td>\n",
       "      <td>2024-01-09 23:44:00</td>\n",
       "    </tr>\n",
       "    <tr>\n",
       "      <th>3</th>\n",
       "      <td>Title Not Found</td>\n",
       "      <td>NaN</td>\n",
       "      <td>2024-01-09 23:44:02</td>\n",
       "    </tr>\n",
       "    <tr>\n",
       "      <th>4</th>\n",
       "      <td>Title Not Found</td>\n",
       "      <td>NaN</td>\n",
       "      <td>2024-01-09 23:44:13</td>\n",
       "    </tr>\n",
       "    <tr>\n",
       "      <th>...</th>\n",
       "      <td>...</td>\n",
       "      <td>...</td>\n",
       "      <td>...</td>\n",
       "    </tr>\n",
       "    <tr>\n",
       "      <th>108</th>\n",
       "      <td>Title Not Found</td>\n",
       "      <td>NaN</td>\n",
       "      <td>2024-01-10 00:07:12</td>\n",
       "    </tr>\n",
       "    <tr>\n",
       "      <th>109</th>\n",
       "      <td>Casio Analog Blue Dial Men's Watch-MTP-V005L-2...</td>\n",
       "      <td>1646.0</td>\n",
       "      <td>2024-01-10 00:07:16</td>\n",
       "    </tr>\n",
       "    <tr>\n",
       "      <th>110</th>\n",
       "      <td>Title Not Found</td>\n",
       "      <td>NaN</td>\n",
       "      <td>2024-01-10 00:07:18</td>\n",
       "    </tr>\n",
       "    <tr>\n",
       "      <th>111</th>\n",
       "      <td>Title Not Found</td>\n",
       "      <td>NaN</td>\n",
       "      <td>2024-01-10 00:07:19</td>\n",
       "    </tr>\n",
       "    <tr>\n",
       "      <th>112</th>\n",
       "      <td>Title Not Found</td>\n",
       "      <td>NaN</td>\n",
       "      <td>2024-01-10 00:07:21</td>\n",
       "    </tr>\n",
       "  </tbody>\n",
       "</table>\n",
       "<p>113 rows × 3 columns</p>\n",
       "</div>"
      ],
      "text/plain": [
       "                                               Product   Price  \\\n",
       "0    Casio Analog Blue Dial Men's Watch-MTP-V005L-2...  1646.0   \n",
       "1                                      Title Not Found     NaN   \n",
       "2    Casio Analog Blue Dial Men's Watch-MTP-V005L-2...  1646.0   \n",
       "3                                      Title Not Found     NaN   \n",
       "4                                      Title Not Found     NaN   \n",
       "..                                                 ...     ...   \n",
       "108                                    Title Not Found     NaN   \n",
       "109  Casio Analog Blue Dial Men's Watch-MTP-V005L-2...  1646.0   \n",
       "110                                    Title Not Found     NaN   \n",
       "111                                    Title Not Found     NaN   \n",
       "112                                    Title Not Found     NaN   \n",
       "\n",
       "                    Date  \n",
       "0    2024-01-09 23:42:52  \n",
       "1    2024-01-09 23:43:55  \n",
       "2    2024-01-09 23:44:00  \n",
       "3    2024-01-09 23:44:02  \n",
       "4    2024-01-09 23:44:13  \n",
       "..                   ...  \n",
       "108  2024-01-10 00:07:12  \n",
       "109  2024-01-10 00:07:16  \n",
       "110  2024-01-10 00:07:18  \n",
       "111  2024-01-10 00:07:19  \n",
       "112  2024-01-10 00:07:21  \n",
       "\n",
       "[113 rows x 3 columns]"
      ]
     },
     "execution_count": 57,
     "metadata": {},
     "output_type": "execute_result"
    }
   ],
   "source": [
    "import pandas as pd\n",
    "\n",
    "df = pd.read_csv(file_path)\n",
    "\n",
    "df   "
   ]
  },
  {
   "cell_type": "markdown",
   "id": "945ba9aa",
   "metadata": {},
   "source": [
    "### Sending mail when the price hits budget range"
   ]
  },
  {
   "cell_type": "code",
   "execution_count": 103,
   "id": "479a2758",
   "metadata": {},
   "outputs": [],
   "source": [
    "# Sending mail when price hits below a certain number\n",
    "import smtplib\n",
    "\n",
    "def send_mail():\n",
    "    server = smtplib.SMTP_SSL('smtp.gmail.com', 465)\n",
    "    server.ehlo()\n",
    "    server.login('iamayushtiwari333@gmail.com', 'xxxxxxxxxx')\n",
    "\n",
    "    subject = \"The watch you want is below 1700 rupees! Now is your chance to buy!\"\n",
    "    body = \"Ayush, This is the moment we have been waiting for. Now is your chance to pick up the watch of your dreams. Don't mess it up! Link here: https://www.amazon.in/Casio-Analog-Blue-Dial-Watch-MTP-V005L-2B5UDF/dp/B09BB41MGF/ref=sr_1_6?keywords=wrist%2Bwatch%2Bfor%2Bmen&sr=8-6&th=1\"\n",
    "\n",
    "    msg = f\"Subject: {subject}\\n\\n{body}\"\n",
    "    \n",
    "    recipient_email = 'iamayushtiwari333@gmail.com'  # Add your email address here\n",
    "\n",
    "    # Sending email to the specified recipient\n",
    "    server.sendmail('iamayushtiwari333@gmail.com', recipient_email, msg)\n",
    "\n",
    "    server.quit()  # Quit the SMTP server connection\n"
   ]
  },
  {
   "cell_type": "code",
   "execution_count": null,
   "id": "30c129c4",
   "metadata": {},
   "outputs": [],
   "source": []
  },
  {
   "cell_type": "code",
   "execution_count": null,
   "id": "1b9dd17c",
   "metadata": {},
   "outputs": [],
   "source": []
  },
  {
   "cell_type": "code",
   "execution_count": null,
   "id": "2833583d",
   "metadata": {},
   "outputs": [],
   "source": []
  },
  {
   "cell_type": "code",
   "execution_count": null,
   "id": "1074d6e6",
   "metadata": {},
   "outputs": [],
   "source": []
  }
 ],
 "metadata": {
  "kernelspec": {
   "display_name": "Python 3 (ipykernel)",
   "language": "python",
   "name": "python3"
  },
  "language_info": {
   "codemirror_mode": {
    "name": "ipython",
    "version": 3
   },
   "file_extension": ".py",
   "mimetype": "text/x-python",
   "name": "python",
   "nbconvert_exporter": "python",
   "pygments_lexer": "ipython3",
   "version": "3.11.5"
  }
 },
 "nbformat": 4,
 "nbformat_minor": 5
}
